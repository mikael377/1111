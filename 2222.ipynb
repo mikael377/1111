{
 "cells": [
  {
   "cell_type": "code",
   "execution_count": 1,
   "id": "39aec1dd",
   "metadata": {},
   "outputs": [
    {
     "name": "stdout",
     "output_type": "stream",
     "text": [
      "privet\n"
     ]
    }
   ],
   "source": [
    "print (\"privet\")"
   ]
  },
  {
   "cell_type": "code",
   "execution_count": null,
   "id": "cbff1977",
   "metadata": {},
   "outputs": [],
   "source": []
  }
 ],
 "metadata": {
  "kernelspec": {
   "display_name": "Python 3 (ipykernel)",
   "language": "python",
   "name": "python3"
  },
  "language_info": {
   "codemirror_mode": {
    "name": "ipython",
    "version": 3
   },
   "file_extension": ".py",
   "mimetype": "text/x-python",
   "name": "python",
   "nbconvert_exporter": "python",
   "pygments_lexer": "ipython3",
   "version": "3.9.7"
  }
 },
 "nbformat": 4,
 "nbformat_minor": 5
}
